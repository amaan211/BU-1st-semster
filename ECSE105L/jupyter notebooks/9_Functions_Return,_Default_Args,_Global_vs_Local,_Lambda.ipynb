{
  "nbformat": 4,
  "nbformat_minor": 0,
  "metadata": {
    "kernelspec": {
      "display_name": "Python 3",
      "language": "python",
      "name": "python3"
    },
    "language_info": {
      "codemirror_mode": {
        "name": "ipython",
        "version": 3
      },
      "file_extension": ".py",
      "mimetype": "text/x-python",
      "name": "python",
      "nbconvert_exporter": "python",
      "pygments_lexer": "ipython3",
      "version": "3.6.10"
    },
    "colab": {
      "name": "9. Functions: Return, Default Args, Global vs Local, Lambda.ipynb",
      "provenance": [],
      "collapsed_sections": [
        "S6iwsol3DGyy"
      ]
    }
  },
  "cells": [
    {
      "cell_type": "markdown",
      "metadata": {
        "id": "uqw2NbqXDGx3"
      },
      "source": [
        "# Functions"
      ]
    },
    {
      "cell_type": "markdown",
      "metadata": {
        "id": "l3MM997gDGx4"
      },
      "source": [
        "Functions can represent mathematical functions. More importantly, in programmming functions are a mechansim to allow code to be re-used so that complex programs can be built up out of simpler parts. \n",
        "\n",
        "**Important:** *Starting to write a python program by just writing a few lines of code and testing as you go is great -- but a common beginner mistake is to keep doing this. You do not want to have a program that consists of 20,000 lines in one long file/notebook. Think of functions like paragraphs in writing English. Whenever you start a new idea, start a new function. This makes your code much more readable, easier to debug and ultimately to re-use parts of the code in ways that may not have been anticipated when initially writing the code.*"
      ]
    },
    {
      "cell_type": "markdown",
      "metadata": {
        "id": "JyNcrwuLDGx4"
      },
      "source": [
        "This is the basic syntax of a function\n",
        "\n",
        "```python\n",
        "def funcname(arg1, arg2,... argN):\n",
        "    ''' Document String'''\n",
        "    statements\n",
        "    return value```"
      ]
    },
    {
      "cell_type": "markdown",
      "metadata": {
        "id": "ITpE_biFDGx5"
      },
      "source": [
        "Read the above syntax as, A function by name \"funcname\" is defined, which accepts arguements \"arg1,arg2,....argN\". The function is documented and it is '''Document String'''. The function after executing the statements returns a \"value\".\n",
        "\n",
        "Return values are optional (by default every function returns `None` (a special object that is equivalent to `False` ) if no return statement is executed"
      ]
    },
    {
      "cell_type": "code",
      "metadata": {
        "id": "OfaHlt5QDGx6",
        "colab": {
          "base_uri": "https://localhost:8080/"
        },
        "outputId": "17a0f97f-c3b0-45a6-89dd-d4fabffe093b"
      },
      "source": [
        "print(\"Hello Jack.\")\n",
        "print(\"Jack, how are you?\")"
      ],
      "execution_count": null,
      "outputs": [
        {
          "output_type": "stream",
          "text": [
            "Hello Jack.\n",
            "Jack, how are you?\n"
          ],
          "name": "stdout"
        }
      ]
    },
    {
      "cell_type": "code",
      "metadata": {
        "colab": {
          "base_uri": "https://localhost:8080/"
        },
        "id": "wpApedo7AJPl",
        "outputId": "f097190b-8776-4307-84ce-e85afd79cc0d"
      },
      "source": [
        "divmod(9,5)"
      ],
      "execution_count": null,
      "outputs": [
        {
          "output_type": "execute_result",
          "data": {
            "text/plain": [
              "(1, 4)"
            ]
          },
          "metadata": {
            "tags": []
          },
          "execution_count": 42
        }
      ]
    },
    {
      "cell_type": "code",
      "metadata": {
        "colab": {
          "base_uri": "https://localhost:8080/"
        },
        "id": "Wq7MmYK9AVsS",
        "outputId": "688ca7e7-8a81-4bec-90c2-c94526d1815b"
      },
      "source": [
        "int = 10\n",
        "print(int)"
      ],
      "execution_count": null,
      "outputs": [
        {
          "output_type": "stream",
          "text": [
            "10\n"
          ],
          "name": "stdout"
        }
      ]
    },
    {
      "cell_type": "code",
      "metadata": {
        "colab": {
          "base_uri": "https://localhost:8080/",
          "height": 162
        },
        "id": "Ec47cVQyAaNG",
        "outputId": "0ff3fb41-431b-4e2d-d744-56f293284bd9"
      },
      "source": [
        "del int"
      ],
      "execution_count": null,
      "outputs": [
        {
          "output_type": "error",
          "ename": "NameError",
          "evalue": "ignored",
          "traceback": [
            "\u001b[0;31m---------------------------------------------------------------------------\u001b[0m",
            "\u001b[0;31mNameError\u001b[0m                                 Traceback (most recent call last)",
            "\u001b[0;32m<ipython-input-57-2acc2b23e306>\u001b[0m in \u001b[0;36m<module>\u001b[0;34m()\u001b[0m\n\u001b[0;32m----> 1\u001b[0;31m \u001b[0;32mdel\u001b[0m \u001b[0mint\u001b[0m\u001b[0;34m\u001b[0m\u001b[0;34m\u001b[0m\u001b[0m\n\u001b[0m",
            "\u001b[0;31mNameError\u001b[0m: name 'int' is not defined"
          ]
        }
      ]
    },
    {
      "cell_type": "code",
      "metadata": {
        "colab": {
          "base_uri": "https://localhost:8080/"
        },
        "id": "HgA5zBacAYHN",
        "outputId": "5225e77b-d549-4880-a707-fd0455967959"
      },
      "source": [
        "int(\"10\")"
      ],
      "execution_count": null,
      "outputs": [
        {
          "output_type": "execute_result",
          "data": {
            "text/plain": [
              "10"
            ]
          },
          "metadata": {
            "tags": []
          },
          "execution_count": 56
        }
      ]
    },
    {
      "cell_type": "code",
      "metadata": {
        "colab": {
          "base_uri": "https://localhost:8080/"
        },
        "id": "E7RE-QphAHmq",
        "outputId": "d49451b4-1507-4eea-e709-53045026ccb8"
      },
      "source": [
        "def int(x): # function overriding\n",
        "  print(\"Surprise! this function do nothing, just like me...\")\n",
        "\n",
        "int(5)"
      ],
      "execution_count": null,
      "outputs": [
        {
          "output_type": "stream",
          "text": [
            "Surprise! this function do nothing, just like me...\n"
          ],
          "name": "stdout"
        }
      ]
    },
    {
      "cell_type": "code",
      "metadata": {
        "id": "eLCic5b7Aq1C"
      },
      "source": [
        "del int"
      ],
      "execution_count": null,
      "outputs": []
    },
    {
      "cell_type": "code",
      "metadata": {
        "colab": {
          "base_uri": "https://localhost:8080/",
          "height": 162
        },
        "id": "Q1XIB_PCAfzL",
        "outputId": "aac94d66-37d7-4687-9a56-e3a07fcf54d2"
      },
      "source": [
        "divmod(9,5)"
      ],
      "execution_count": null,
      "outputs": [
        {
          "output_type": "error",
          "ename": "TypeError",
          "evalue": "ignored",
          "traceback": [
            "\u001b[0;31m---------------------------------------------------------------------------\u001b[0m",
            "\u001b[0;31mTypeError\u001b[0m                                 Traceback (most recent call last)",
            "\u001b[0;32m<ipython-input-49-9ab78044def6>\u001b[0m in \u001b[0;36m<module>\u001b[0;34m()\u001b[0m\n\u001b[0;32m----> 1\u001b[0;31m \u001b[0mdivmod\u001b[0m\u001b[0;34m(\u001b[0m\u001b[0;36m9\u001b[0m\u001b[0;34m,\u001b[0m\u001b[0;36m5\u001b[0m\u001b[0;34m)\u001b[0m\u001b[0;34m\u001b[0m\u001b[0;34m\u001b[0m\u001b[0m\n\u001b[0m",
            "\u001b[0;31mTypeError\u001b[0m: divmod() takes 1 positional argument but 2 were given"
          ]
        }
      ]
    },
    {
      "cell_type": "code",
      "metadata": {
        "colab": {
          "base_uri": "https://localhost:8080/"
        },
        "id": "-WN4Z4TrBR0_",
        "outputId": "6b70ef48-a01e-4909-e522-b1bf4c11029e"
      },
      "source": [
        "def funny():\n",
        "  print(\"GTH\")\n"
      ],
      "execution_count": null,
      "outputs": [
        {
          "output_type": "stream",
          "text": [
            "GTH\n"
          ],
          "name": "stdout"
        }
      ]
    },
    {
      "cell_type": "code",
      "metadata": {
        "id": "Mpba7iDTBYnL"
      },
      "source": [
        "del funny"
      ],
      "execution_count": null,
      "outputs": []
    },
    {
      "cell_type": "code",
      "metadata": {
        "colab": {
          "base_uri": "https://localhost:8080/",
          "height": 162
        },
        "id": "7r4WcbDiBXtl",
        "outputId": "49bd5652-0fb3-41fe-de09-1a214ca09a5d"
      },
      "source": [
        "funny()"
      ],
      "execution_count": null,
      "outputs": [
        {
          "output_type": "error",
          "ename": "NameError",
          "evalue": "ignored",
          "traceback": [
            "\u001b[0;31m---------------------------------------------------------------------------\u001b[0m",
            "\u001b[0;31mNameError\u001b[0m                                 Traceback (most recent call last)",
            "\u001b[0;32m<ipython-input-61-9c3a1982763f>\u001b[0m in \u001b[0;36m<module>\u001b[0;34m()\u001b[0m\n\u001b[0;32m----> 1\u001b[0;31m \u001b[0mfunny\u001b[0m\u001b[0;34m(\u001b[0m\u001b[0;34m)\u001b[0m\u001b[0;34m\u001b[0m\u001b[0;34m\u001b[0m\u001b[0m\n\u001b[0m",
            "\u001b[0;31mNameError\u001b[0m: name 'funny' is not defined"
          ]
        }
      ]
    },
    {
      "cell_type": "markdown",
      "metadata": {
        "id": "tr4oxsvrDGx_"
      },
      "source": [
        "Instead of writing the above two statements every single time it can be replaced by defining a function which would do the job in just one line. \n",
        "\n",
        "Defining a function firstfunc()."
      ]
    },
    {
      "cell_type": "code",
      "metadata": {
        "id": "FGPzyngGDGyA",
        "colab": {
          "base_uri": "https://localhost:8080/"
        },
        "outputId": "ac062b47-74c0-4218-db46-8b32b085f250"
      },
      "source": [
        "def firstfunc():\n",
        "    print(\"Hello Jack.\")\n",
        "    print(\"Jack, how are you?\")\n",
        "firstfunc() # execute the function"
      ],
      "execution_count": null,
      "outputs": [
        {
          "output_type": "stream",
          "text": [
            "Hello Jack.\n",
            "Jack, how are you?\n"
          ],
          "name": "stdout"
        }
      ]
    },
    {
      "cell_type": "markdown",
      "metadata": {
        "id": "6fXK023ZDGyE"
      },
      "source": [
        "`firstfunc()` just prints the message every time to a single person. We can make our function `firstfunc()` to accept arguments which will store the name and then prints its message to that name. To do so, add a argument within the function as shown."
      ]
    },
    {
      "cell_type": "code",
      "metadata": {
        "id": "nP50_uKpBs0Q"
      },
      "source": [
        "username = \"Admin\""
      ],
      "execution_count": null,
      "outputs": []
    },
    {
      "cell_type": "code",
      "metadata": {
        "colab": {
          "base_uri": "https://localhost:8080/"
        },
        "id": "3IdQSYnOBlHw",
        "outputId": "c42b3f7b-1d15-4892-e9ed-3756a93ae8a8"
      },
      "source": [
        "print(\"Hello %s.\" % username)"
      ],
      "execution_count": null,
      "outputs": [
        {
          "output_type": "stream",
          "text": [
            "Hello Admin.\n"
          ],
          "name": "stdout"
        }
      ]
    },
    {
      "cell_type": "code",
      "metadata": {
        "colab": {
          "base_uri": "https://localhost:8080/"
        },
        "id": "PJRQaZCjBvsE",
        "outputId": "eb0b2c0a-b10a-4977-94c1-0405857a8e70"
      },
      "source": [
        "num = 32\n",
        "print(\"My age is {} and my mark is also {}\".format(num,num))"
      ],
      "execution_count": null,
      "outputs": [
        {
          "output_type": "stream",
          "text": [
            "My age is 32 and my mark is also 32\n"
          ],
          "name": "stdout"
        }
      ]
    },
    {
      "cell_type": "code",
      "metadata": {
        "id": "Rz2qF8zADGyF"
      },
      "source": [
        "def firstfunc(username):\n",
        "    print(\"Hello %s.\" % username)\n",
        "    print(username + ',' ,\"how are you?\")"
      ],
      "execution_count": null,
      "outputs": []
    },
    {
      "cell_type": "code",
      "metadata": {
        "id": "ryR3PdEODGyI"
      },
      "source": [
        "name1 = 'Sally' # or use input('Please enter your name : ')"
      ],
      "execution_count": null,
      "outputs": []
    },
    {
      "cell_type": "markdown",
      "metadata": {
        "id": "ShKoGWqMDGyL"
      },
      "source": [
        " So we pass this variable to the function `firstfunc()` as the variable username because that is the variable that is defined for this function. i.e name1 is passed as username."
      ]
    },
    {
      "cell_type": "code",
      "metadata": {
        "id": "0Pf3M1ynDGyM",
        "colab": {
          "base_uri": "https://localhost:8080/"
        },
        "outputId": "8a68ad3c-e409-483b-87b0-99e828fc6d79"
      },
      "source": [
        "firstfunc(name1)"
      ],
      "execution_count": null,
      "outputs": [
        {
          "output_type": "stream",
          "text": [
            "Hello Sally.\n",
            "Sally, how are you?\n"
          ],
          "name": "stdout"
        }
      ]
    },
    {
      "cell_type": "code",
      "metadata": {
        "colab": {
          "base_uri": "https://localhost:8080/"
        },
        "id": "qb-AJZedCd91",
        "outputId": "afd31d69-42d8-49e3-b4be-83332084d4cc"
      },
      "source": [
        "result = divmod(2,3)\n",
        "print(result)"
      ],
      "execution_count": null,
      "outputs": [
        {
          "output_type": "stream",
          "text": [
            "(0, 2)\n"
          ],
          "name": "stdout"
        }
      ]
    },
    {
      "cell_type": "code",
      "metadata": {
        "colab": {
          "base_uri": "https://localhost:8080/"
        },
        "id": "I7BUIeLWCpro",
        "outputId": "0fd4e8d0-1a23-4e22-a786-9522c8f7e204"
      },
      "source": [
        "def add(a,b):\n",
        "  print(\"Addition is\",a+b)\n",
        "\n",
        "add(3,4)"
      ],
      "execution_count": null,
      "outputs": [
        {
          "output_type": "stream",
          "text": [
            "Addition is 7\n"
          ],
          "name": "stdout"
        }
      ]
    },
    {
      "cell_type": "code",
      "metadata": {
        "colab": {
          "base_uri": "https://localhost:8080/"
        },
        "id": "J7hYyjS9Dt8g",
        "outputId": "be4eeab3-e014-4efb-e1e8-08617e879a3c"
      },
      "source": [
        "r = add(3,2)"
      ],
      "execution_count": null,
      "outputs": [
        {
          "output_type": "stream",
          "text": [
            "Addition is 5\n"
          ],
          "name": "stdout"
        }
      ]
    },
    {
      "cell_type": "code",
      "metadata": {
        "id": "3m8yVsHxEcUO"
      },
      "source": [
        "r"
      ],
      "execution_count": null,
      "outputs": []
    },
    {
      "cell_type": "code",
      "metadata": {
        "id": "mhjBLqs7DUhr"
      },
      "source": [
        "ls = [2,1,2,1,21,1,1]"
      ],
      "execution_count": null,
      "outputs": []
    },
    {
      "cell_type": "code",
      "metadata": {
        "id": "OaNO23yzDXhe"
      },
      "source": [
        "res = ls.sort()"
      ],
      "execution_count": null,
      "outputs": []
    },
    {
      "cell_type": "code",
      "metadata": {
        "colab": {
          "base_uri": "https://localhost:8080/"
        },
        "id": "QFoqzWVeDawe",
        "outputId": "2bc259b6-e2cb-446c-bffe-52c1ec8dd41f"
      },
      "source": [
        "type(res)"
      ],
      "execution_count": null,
      "outputs": [
        {
          "output_type": "execute_result",
          "data": {
            "text/plain": [
              "NoneType"
            ]
          },
          "metadata": {
            "tags": []
          },
          "execution_count": 101
        }
      ]
    },
    {
      "cell_type": "code",
      "metadata": {
        "colab": {
          "base_uri": "https://localhost:8080/"
        },
        "id": "9tjW0OZ8DoS4",
        "outputId": "8244e6d4-0e32-40b4-9d1d-6bcec1260b47"
      },
      "source": [
        "ls"
      ],
      "execution_count": null,
      "outputs": [
        {
          "output_type": "execute_result",
          "data": {
            "text/plain": [
              "[1, 1, 1, 1, 2, 2, 21]"
            ]
          },
          "metadata": {
            "tags": []
          },
          "execution_count": 157
        }
      ]
    },
    {
      "cell_type": "code",
      "metadata": {
        "colab": {
          "base_uri": "https://localhost:8080/"
        },
        "id": "17NLjlbUCvCh",
        "outputId": "31271f5e-c91d-43e8-afac-8e4e77293742"
      },
      "source": [
        "print(add(3,4))"
      ],
      "execution_count": null,
      "outputs": [
        {
          "output_type": "stream",
          "text": [
            "7\n"
          ],
          "name": "stdout"
        }
      ]
    },
    {
      "cell_type": "code",
      "metadata": {
        "colab": {
          "base_uri": "https://localhost:8080/"
        },
        "id": "Qsz0J7OPCu6u",
        "outputId": "09e5f51c-4a75-4f64-e362-c24fcf749018"
      },
      "source": [
        "res"
      ],
      "execution_count": null,
      "outputs": [
        {
          "output_type": "execute_result",
          "data": {
            "text/plain": [
              "7"
            ]
          },
          "metadata": {
            "tags": []
          },
          "execution_count": 91
        }
      ]
    },
    {
      "cell_type": "code",
      "metadata": {
        "id": "pkTAat9uEl-N"
      },
      "source": [
        "def power(a,b):\n",
        "  p = a**b\n",
        "  st = \"Power of \"+str(a)+\" and \"+str(b)+\" is \"+str(p)\n",
        "  return st"
      ],
      "execution_count": null,
      "outputs": []
    },
    {
      "cell_type": "code",
      "metadata": {
        "colab": {
          "base_uri": "https://localhost:8080/"
        },
        "id": "UvMdiYkTE4WG",
        "outputId": "a0697af5-b906-45e9-d4f6-72e0316a1086"
      },
      "source": [
        "r1 = power(10,2)\n",
        "print(r1)"
      ],
      "execution_count": null,
      "outputs": [
        {
          "output_type": "stream",
          "text": [
            "Power of 10 and 2is 100\n"
          ],
          "name": "stdout"
        }
      ]
    },
    {
      "cell_type": "code",
      "metadata": {
        "colab": {
          "base_uri": "https://localhost:8080/"
        },
        "id": "UF4Jza9MIvRr",
        "outputId": "29096339-add4-4d6c-f921-e346362aaf1a"
      },
      "source": [
        "type(ls)==list"
      ],
      "execution_count": null,
      "outputs": [
        {
          "output_type": "execute_result",
          "data": {
            "text/plain": [
              "True"
            ]
          },
          "metadata": {
            "tags": []
          },
          "execution_count": 158
        }
      ]
    },
    {
      "cell_type": "code",
      "metadata": {
        "id": "wHUuJCaHE4Pq"
      },
      "source": [
        "def findodd(ls):\n",
        "  '''ls: Input list\n",
        "  This function takes 1 argument, will return odd values. Input the list.'''\n",
        "  if type(ls)!=list:\n",
        "    print(\"Error: Run run...\\nInvalid input\")\n",
        "    return\n",
        "  res = []\n",
        "  for item in ls:\n",
        "    if item%2!=0:\n",
        "      res.append(item)\n",
        "      print(item,\"is an odd number\")\n",
        "  return res\n",
        "  print(\"Hey I am here\")"
      ],
      "execution_count": null,
      "outputs": []
    },
    {
      "cell_type": "code",
      "metadata": {
        "colab": {
          "base_uri": "https://localhost:8080/"
        },
        "id": "21Vzye0BI71M",
        "outputId": "65877f92-d4ad-413b-c33d-a8cb9758d69c"
      },
      "source": [
        "findodd(9)"
      ],
      "execution_count": null,
      "outputs": [
        {
          "output_type": "stream",
          "text": [
            "Error: Run run...\n",
            "Invalid input\n"
          ],
          "name": "stdout"
        }
      ]
    },
    {
      "cell_type": "code",
      "metadata": {
        "colab": {
          "base_uri": "https://localhost:8080/"
        },
        "id": "DmvXQXzHG9QR",
        "outputId": "879dc8e8-3455-4de4-8a4a-cf61cb71c995"
      },
      "source": [
        "dc={1:2,43:2}\n",
        "for key in dc.keys():\n",
        "  print(key,dc[key])\n"
      ],
      "execution_count": null,
      "outputs": [
        {
          "output_type": "stream",
          "text": [
            "1 2\n",
            "43 2\n"
          ],
          "name": "stdout"
        }
      ]
    },
    {
      "cell_type": "code",
      "metadata": {
        "colab": {
          "base_uri": "https://localhost:8080/"
        },
        "id": "FZzs8_XUHTu9",
        "outputId": "0abd98de-e05a-4307-aaae-f5b997560c1a"
      },
      "source": [
        "print(power)\n",
        "print(findodd)"
      ],
      "execution_count": null,
      "outputs": [
        {
          "output_type": "stream",
          "text": [
            "<function power at 0x7ff38288dd90>\n",
            "<function findodd at 0x7ff38288de18>\n"
          ],
          "name": "stdout"
        }
      ]
    },
    {
      "cell_type": "code",
      "metadata": {
        "colab": {
          "base_uri": "https://localhost:8080/"
        },
        "id": "dSKxxWFTHhGr",
        "outputId": "c7765157-0cfb-467c-d275-392ceeec2311"
      },
      "source": [
        "help(findodd)"
      ],
      "execution_count": null,
      "outputs": [
        {
          "output_type": "stream",
          "text": [
            "Help on function findodd in module __main__:\n",
            "\n",
            "findodd(ls)\n",
            "    This function will return odd values\n",
            "\n"
          ],
          "name": "stdout"
        }
      ]
    },
    {
      "cell_type": "code",
      "metadata": {
        "colab": {
          "base_uri": "https://localhost:8080/"
        },
        "id": "wWkKBEcPG40q",
        "outputId": "e4c9f903-e29a-46b2-f3fe-d495b35f144d"
      },
      "source": [
        "print(findodd([1,2,2,31]))"
      ],
      "execution_count": null,
      "outputs": [
        {
          "output_type": "stream",
          "text": [
            "1 is an odd number\n",
            "31 is an odd number\n",
            "[1, 31]\n"
          ],
          "name": "stdout"
        }
      ]
    },
    {
      "cell_type": "code",
      "metadata": {
        "id": "JI0yhdqSGuQg"
      },
      "source": [
        "tp = (1,21,3,21,2)"
      ],
      "execution_count": null,
      "outputs": []
    },
    {
      "cell_type": "code",
      "metadata": {
        "colab": {
          "base_uri": "https://localhost:8080/"
        },
        "id": "2jrXMhCDFvn-",
        "outputId": "3174ca0b-2671-4531-8cc8-95998ca215bb"
      },
      "source": [
        "res = findodd(tp)"
      ],
      "execution_count": null,
      "outputs": [
        {
          "output_type": "stream",
          "text": [
            "1 is an odd number\n",
            "21 is an odd number\n",
            "3 is an odd number\n",
            "21 is an odd number\n"
          ],
          "name": "stdout"
        }
      ]
    },
    {
      "cell_type": "code",
      "metadata": {
        "colab": {
          "base_uri": "https://localhost:8080/"
        },
        "id": "24lIx4fkGJW0",
        "outputId": "d8b1d3fa-a8f4-4c9c-e255-d90f47027381"
      },
      "source": [
        "res"
      ],
      "execution_count": null,
      "outputs": [
        {
          "output_type": "execute_result",
          "data": {
            "text/plain": [
              "[1, 3, 3, 45, 5]"
            ]
          },
          "metadata": {
            "tags": []
          },
          "execution_count": 130
        }
      ]
    },
    {
      "cell_type": "code",
      "metadata": {
        "colab": {
          "base_uri": "https://localhost:8080/"
        },
        "id": "5ziI5ZgWKRHx",
        "outputId": "70d30f70-78fd-4414-a69a-6ea003c3f8fe"
      },
      "source": [
        "def person(name,age,gender):\n",
        "  \"\"\"Age should be number\"\"\"\n",
        "  print(\"After 100 years {} will be {} years old\".format(age+100,name))\n",
        "\n",
        "nm = \"Sri\"\n",
        "age = 10\n",
        "gen = \"Male\"\n",
        "person(nm,age,gen)"
      ],
      "execution_count": null,
      "outputs": [
        {
          "output_type": "stream",
          "text": [
            "After 100 years 110 will be Sri years old\n"
          ],
          "name": "stdout"
        }
      ]
    },
    {
      "cell_type": "code",
      "metadata": {
        "colab": {
          "base_uri": "https://localhost:8080/"
        },
        "id": "xJRwMtMTLJct",
        "outputId": "e55913ba-8a80-4693-939a-c6d2fab0874c"
      },
      "source": [
        "def calc(a,b,o):\n",
        "  if o==\"*\":\n",
        "    return a*b\n",
        "  elif o==\"-\":\n",
        "    return a-b\n",
        "  return \"Surprise !\"\n",
        "\n",
        "for i in range(10):\n",
        "  print(calc(i,2,\"*\"))\n"
      ],
      "execution_count": null,
      "outputs": [
        {
          "output_type": "stream",
          "text": [
            "0\n",
            "2\n",
            "4\n",
            "6\n",
            "8\n",
            "10\n",
            "12\n",
            "14\n",
            "16\n",
            "18\n"
          ],
          "name": "stdout"
        }
      ]
    },
    {
      "cell_type": "code",
      "metadata": {
        "colab": {
          "base_uri": "https://localhost:8080/"
        },
        "id": "xjJvgFd4L7uX",
        "outputId": "7f5540ef-1b56-444e-892c-d3469ca90fb1"
      },
      "source": [
        "s = \"SRI\"\n",
        "r = \"sRi\"\n",
        "print(s.upper()==r.upper())"
      ],
      "execution_count": null,
      "outputs": [
        {
          "output_type": "stream",
          "text": [
            "True\n"
          ],
          "name": "stdout"
        }
      ]
    },
    {
      "cell_type": "markdown",
      "metadata": {
        "id": "EE3QDZmsDGyP"
      },
      "source": [
        "## Return Statement"
      ]
    },
    {
      "cell_type": "markdown",
      "metadata": {
        "id": "PR9XuI4DDGyQ"
      },
      "source": [
        "When the function results in some value and that value has to be stored in a variable or needs to be sent back or returned for further operation to the main algorithm, a return statement is used."
      ]
    },
    {
      "cell_type": "code",
      "metadata": {
        "id": "V_0d7BHvDGyR"
      },
      "source": [
        "def times(x,y):\n",
        "    z = x*y\n",
        "    return z\n",
        "    z = 17 # this statement is never executed"
      ],
      "execution_count": null,
      "outputs": []
    },
    {
      "cell_type": "markdown",
      "metadata": {
        "id": "B1v02yIXDGyU"
      },
      "source": [
        "The above defined `times( )` function accepts two arguements and return the variable z which contains the result of the product of the two arguements"
      ]
    },
    {
      "cell_type": "code",
      "metadata": {
        "id": "Cy220fVMDGyV",
        "colab": {
          "base_uri": "https://localhost:8080/"
        },
        "outputId": "4acb2199-dd3a-43b0-ebab-7707c92680eb"
      },
      "source": [
        "c = times(4,5)\n",
        "print(c)"
      ],
      "execution_count": null,
      "outputs": [
        {
          "output_type": "stream",
          "text": [
            "20\n"
          ],
          "name": "stdout"
        }
      ]
    },
    {
      "cell_type": "markdown",
      "metadata": {
        "id": "uI2ZhnXyDGyY"
      },
      "source": [
        "The z value is stored in variable c and can be used for further operations."
      ]
    },
    {
      "cell_type": "markdown",
      "metadata": {
        "id": "WZM8GyFADGyY"
      },
      "source": [
        "Instead of declaring another variable the entire statement itself can be used in the return statement as shown."
      ]
    },
    {
      "cell_type": "code",
      "metadata": {
        "id": "scBLUXIKDGyZ"
      },
      "source": [
        "def times(x,y):\n",
        "    '''This multiplies the two input arguments'''\n",
        "    return x*y"
      ],
      "execution_count": null,
      "outputs": []
    },
    {
      "cell_type": "code",
      "metadata": {
        "id": "rdNdHk2lDGyc",
        "colab": {
          "base_uri": "https://localhost:8080/"
        },
        "outputId": "3967457a-2cbb-45f3-8a5d-f581d3c56f0c"
      },
      "source": [
        "c = times(4,5)\n",
        "print(c)"
      ],
      "execution_count": null,
      "outputs": [
        {
          "output_type": "stream",
          "text": [
            "20\n"
          ],
          "name": "stdout"
        }
      ]
    },
    {
      "cell_type": "markdown",
      "metadata": {
        "id": "DkkqGlnDDGyf"
      },
      "source": [
        "Since the `times()` is now defined, we can document it as shown above. This document is returned whenever `times()` function is called under `help()` function."
      ]
    },
    {
      "cell_type": "code",
      "metadata": {
        "id": "b-NRoKbRDGyf",
        "colab": {
          "base_uri": "https://localhost:8080/"
        },
        "outputId": "da662a9e-3911-40fc-85cc-7368f6f38bdf"
      },
      "source": [
        "help(times)"
      ],
      "execution_count": null,
      "outputs": [
        {
          "output_type": "stream",
          "text": [
            "Help on function times in module __main__:\n",
            "\n",
            "times(x, y)\n",
            "    This multiplies the two input arguments\n",
            "\n"
          ],
          "name": "stdout"
        }
      ]
    },
    {
      "cell_type": "markdown",
      "metadata": {
        "id": "VyngK1DoDGyi"
      },
      "source": [
        "Multiple variable can also be returned as a tuple. However this tends not to be very readable when returning many value, and can easily introduce errors when the order of return values is interpreted incorrectly."
      ]
    },
    {
      "cell_type": "code",
      "metadata": {
        "id": "faRBY_SNDGyj"
      },
      "source": [
        "eglist = [10,50,30,12,6,8,100]"
      ],
      "execution_count": null,
      "outputs": []
    },
    {
      "cell_type": "code",
      "metadata": {
        "id": "Lp_FcHvcDGym"
      },
      "source": [
        "def egfunc(eglist):\n",
        "    highest = max(eglist)\n",
        "    lowest = min(eglist)\n",
        "    first = eglist[0]\n",
        "    last = eglist[-1]\n",
        "    return highest,lowest,first,last"
      ],
      "execution_count": null,
      "outputs": []
    },
    {
      "cell_type": "markdown",
      "metadata": {
        "id": "i55IXhMBDGyp"
      },
      "source": [
        "If the function is just called without any variable for it to be assigned to, the result is returned inside a tuple. But if the variables are mentioned then the result is assigned to the variable in a particular order which is declared in the return statement."
      ]
    },
    {
      "cell_type": "code",
      "metadata": {
        "id": "-BoGUVeQDGys",
        "colab": {
          "base_uri": "https://localhost:8080/"
        },
        "outputId": "779281a2-5147-46d9-ffe2-5791bc62b9f4"
      },
      "source": [
        "egfunc(eglist)"
      ],
      "execution_count": null,
      "outputs": [
        {
          "output_type": "execute_result",
          "data": {
            "text/plain": [
              "(100, 6, 10, 100)"
            ]
          },
          "metadata": {
            "tags": []
          },
          "execution_count": 17
        }
      ]
    },
    {
      "cell_type": "code",
      "metadata": {
        "id": "12hElPyCDGyw",
        "colab": {
          "base_uri": "https://localhost:8080/"
        },
        "outputId": "55aca173-cce6-464e-fcea-8f95befe30c9"
      },
      "source": [
        "a,b,c,d = egfunc(eglist)\n",
        "print(' a =',a,' b =',b,' c =',c,' d =',d)"
      ],
      "execution_count": null,
      "outputs": [
        {
          "output_type": "stream",
          "text": [
            " a = 100  b = 6  c = 10  d = 100\n"
          ],
          "name": "stdout"
        }
      ]
    },
    {
      "cell_type": "markdown",
      "metadata": {
        "id": "S6iwsol3DGyy"
      },
      "source": [
        "## Default arguments"
      ]
    },
    {
      "cell_type": "markdown",
      "metadata": {
        "id": "XI9DEH_xDGyz"
      },
      "source": [
        "When an argument of a function is common in majority of the cases this can be specified with a default value. This is also called an implicit argument."
      ]
    },
    {
      "cell_type": "code",
      "metadata": {
        "id": "N2LoJkDPDGy0"
      },
      "source": [
        "def implicitadd(x,y=3,z=0):\n",
        "    print(\"%d + %d + %d = %d\"%(x,y,z,x+y+z))\n",
        "    return x+y+z"
      ],
      "execution_count": null,
      "outputs": []
    },
    {
      "cell_type": "markdown",
      "metadata": {
        "id": "irp81WL-DGy3"
      },
      "source": [
        "`implicitadd( )` is a function accepts up to three arguments but most of the times the first argument needs to be added just by 3. Hence the second argument is assigned the value 3 and the third argument is zero. Here the last two arguments are default arguments."
      ]
    },
    {
      "cell_type": "markdown",
      "metadata": {
        "id": "RVwz5OJKDGy4"
      },
      "source": [
        "Now if the second argument is not defined when calling the `implicitadd( )` function then it considered as 3."
      ]
    },
    {
      "cell_type": "code",
      "metadata": {
        "id": "X5oiwLTWDGy5",
        "colab": {
          "base_uri": "https://localhost:8080/"
        },
        "outputId": "1db90087-7bd5-4637-d39a-55eba430b3d6"
      },
      "source": [
        "implicitadd(4)"
      ],
      "execution_count": null,
      "outputs": [
        {
          "output_type": "stream",
          "text": [
            "4 + 3 + 0 = 7\n"
          ],
          "name": "stdout"
        },
        {
          "output_type": "execute_result",
          "data": {
            "text/plain": [
              "7"
            ]
          },
          "metadata": {
            "tags": []
          },
          "execution_count": 20
        }
      ]
    },
    {
      "cell_type": "markdown",
      "metadata": {
        "id": "7CGP-ZlkDGy7"
      },
      "source": [
        "However we can call the same function with two or three arguments. A useful feature is to explicitly name the argument values being passed into the function. This gives great flexibility in how to call a function with optional arguments. All off the following are valid:"
      ]
    },
    {
      "cell_type": "code",
      "metadata": {
        "id": "a8fy778xDGy8",
        "colab": {
          "base_uri": "https://localhost:8080/"
        },
        "outputId": "03fc4380-ab90-48f5-8a91-b0dd75c0073a"
      },
      "source": [
        "implicitadd(4,4)\n",
        "implicitadd(4,5,6)\n",
        "implicitadd(4,z=7)\n",
        "implicitadd(2,y=1,z=9)\n",
        "implicitadd(x=1)"
      ],
      "execution_count": null,
      "outputs": [
        {
          "output_type": "stream",
          "text": [
            "4 + 4 + 0 = 8\n",
            "4 + 5 + 6 = 15\n",
            "4 + 3 + 7 = 14\n",
            "2 + 1 + 9 = 12\n",
            "1 + 3 + 0 = 4\n"
          ],
          "name": "stdout"
        },
        {
          "output_type": "execute_result",
          "data": {
            "text/plain": [
              "4"
            ]
          },
          "metadata": {
            "tags": []
          },
          "execution_count": 21
        }
      ]
    },
    {
      "cell_type": "markdown",
      "metadata": {
        "id": "SLjlY0WADGy-"
      },
      "source": [
        "## Any number of arguments"
      ]
    },
    {
      "cell_type": "markdown",
      "metadata": {
        "id": "7XQUcfYpDGy_"
      },
      "source": [
        "If the number of arguments that is to be accepted by a function is not known then a asterisk symbol is used before the name of the argument to hold the remainder of the arguments. The following function requires at least one argument but can have many more."
      ]
    },
    {
      "cell_type": "code",
      "metadata": {
        "id": "n8FMB2qDDGy_"
      },
      "source": [
        "def add_n(first,*args):\n",
        "    \"return the sum of one or more numbers\"\n",
        "    reslist = [first] + [value for value in args]\n",
        "    print(reslist)\n",
        "    return sum(reslist)"
      ],
      "execution_count": null,
      "outputs": []
    },
    {
      "cell_type": "markdown",
      "metadata": {
        "id": "1SVW7DMXDGzC"
      },
      "source": [
        "The above function defines a list of all of the arguments, prints the list and returns the sum of all of the arguments."
      ]
    },
    {
      "cell_type": "code",
      "metadata": {
        "id": "QD5IfNEDDGzC",
        "colab": {
          "base_uri": "https://localhost:8080/"
        },
        "outputId": "ef68e551-ea6c-4936-e765-1798ba8d9a9c"
      },
      "source": [
        "add_n(1,2,3,4,5)"
      ],
      "execution_count": null,
      "outputs": [
        {
          "output_type": "stream",
          "text": [
            "[1, 2, 3, 4, 5]\n"
          ],
          "name": "stdout"
        },
        {
          "output_type": "execute_result",
          "data": {
            "text/plain": [
              "15"
            ]
          },
          "metadata": {
            "tags": []
          },
          "execution_count": 24
        }
      ]
    },
    {
      "cell_type": "code",
      "metadata": {
        "id": "4BrGFeuFDGzF",
        "colab": {
          "base_uri": "https://localhost:8080/"
        },
        "outputId": "60c3b422-aef5-4c67-8004-79b9f5beae43"
      },
      "source": [
        "add_n(6.5)"
      ],
      "execution_count": null,
      "outputs": [
        {
          "output_type": "stream",
          "text": [
            "[6.5]\n"
          ],
          "name": "stdout"
        },
        {
          "output_type": "execute_result",
          "data": {
            "text/plain": [
              "6.5"
            ]
          },
          "metadata": {
            "tags": []
          },
          "execution_count": 25
        }
      ]
    },
    {
      "cell_type": "markdown",
      "metadata": {
        "id": "F99V0AQ5DGzH"
      },
      "source": [
        "Arbitrary numbers of named arguments can also be accepted using `**`. When the function is called all of the additional named arguments are provided in a dictionary "
      ]
    },
    {
      "cell_type": "code",
      "metadata": {
        "id": "-aEPZJCQDGzI",
        "colab": {
          "base_uri": "https://localhost:8080/"
        },
        "outputId": "c220120b-696e-4e2a-b6e6-92e6da894a32"
      },
      "source": [
        "def namedArgs(**names):\n",
        "    'print the named arguments'\n",
        "    # names is a dictionary of keyword : value\n",
        "    print(\"  \".join(name+\"=\"+str(value) \n",
        "                    for name,value in names.items()))\n",
        "\n",
        "namedArgs(x=3*4,animal='mouse',z=(1+2j))"
      ],
      "execution_count": null,
      "outputs": [
        {
          "output_type": "stream",
          "text": [
            "x=12  animal=mouse  z=(1+2j)\n"
          ],
          "name": "stdout"
        }
      ]
    },
    {
      "cell_type": "markdown",
      "metadata": {
        "id": "4guV_aDuDGzL"
      },
      "source": [
        "##  Global and Local Variables"
      ]
    },
    {
      "cell_type": "markdown",
      "metadata": {
        "id": "g_w2duHLDGzM"
      },
      "source": [
        "Whatever variable is declared inside a function is local variable and outside the function in global variable."
      ]
    },
    {
      "cell_type": "code",
      "metadata": {
        "id": "mftG8YwFDGzM"
      },
      "source": [
        "eg1 = [1,2,3,4,5]"
      ],
      "execution_count": null,
      "outputs": []
    },
    {
      "cell_type": "markdown",
      "metadata": {
        "id": "quIFxHi2DGzP"
      },
      "source": [
        "In the below function we are appending a element to the declared list inside the function. eg2 variable declared inside the function is a local variable."
      ]
    },
    {
      "cell_type": "code",
      "metadata": {
        "id": "H4rTmOfADGzP"
      },
      "source": [
        "def egfunc1():\n",
        "    x=1\n",
        "    def thirdfunc():\n",
        "        x=2\n",
        "        print(\"Inside thirdfunc x =\", x) \n",
        "    thirdfunc()\n",
        "    print(\"Outside x =\", x)"
      ],
      "execution_count": null,
      "outputs": []
    },
    {
      "cell_type": "code",
      "metadata": {
        "id": "EogL1nXdDGzS",
        "colab": {
          "base_uri": "https://localhost:8080/"
        },
        "outputId": "148db98d-1dd0-4260-984d-a3e11d896ae4"
      },
      "source": [
        "x=12\n",
        "egfunc1()\n",
        "print(\"Global x =\",x)"
      ],
      "execution_count": null,
      "outputs": [
        {
          "output_type": "stream",
          "text": [
            "Inside thirdfunc x = 2\n",
            "Outside x = 1\n",
            "Global x = 12\n"
          ],
          "name": "stdout"
        }
      ]
    },
    {
      "cell_type": "markdown",
      "metadata": {
        "id": "xBKzDQ9iDGzV"
      },
      "source": [
        "If a `global` variable is defined as shown in the example below then that variable can be called from anywhere. Global values should be used sparingly as they make functions harder to re-use."
      ]
    },
    {
      "cell_type": "code",
      "metadata": {
        "id": "WFQq7gHGDGzV"
      },
      "source": [
        "eg3 = [1,2,3,4,5]"
      ],
      "execution_count": null,
      "outputs": []
    },
    {
      "cell_type": "code",
      "metadata": {
        "id": "fhVpyW9KDGzZ"
      },
      "source": [
        "def egfunc1():\n",
        "    x = 1.0 # local variable for egfunc1\n",
        "    def thirdfunc():\n",
        "        global x # globally defined variable \n",
        "        x = 2.0\n",
        "        print(\"Inside thirdfunc x =\", x) \n",
        "    thirdfunc()\n",
        "    print(\"Outside x =\", x)"
      ],
      "execution_count": null,
      "outputs": []
    },
    {
      "cell_type": "code",
      "metadata": {
        "id": "srvEJemKDGzd",
        "outputId": "b2b12cd9-7e2f-46b3-d04e-a569fb11dab6"
      },
      "source": [
        "egfunc1()\n",
        "print(\"Globally defined x =\",x)"
      ],
      "execution_count": null,
      "outputs": [
        {
          "output_type": "stream",
          "text": [
            "Inside thirdfunc x = 2.0\n",
            "Outside x = 1.0\n",
            "Globally defined x = 2.0\n"
          ],
          "name": "stdout"
        }
      ]
    },
    {
      "cell_type": "markdown",
      "metadata": {
        "id": "fkPgYOdqDGzf"
      },
      "source": [
        "## Lambda Functions"
      ]
    },
    {
      "cell_type": "markdown",
      "metadata": {
        "id": "azM0yqrSDGzg"
      },
      "source": [
        "These are small functions which are not defined with any name and carry a single expression whose result is returned. Lambda functions comes very handy when operating with lists. These function are defined by the keyword `lambda` followed by the variables, a colon and the expression."
      ]
    },
    {
      "cell_type": "code",
      "metadata": {
        "id": "3dntZ6fLDGzg"
      },
      "source": [
        "z = lambda x: x * x"
      ],
      "execution_count": null,
      "outputs": []
    },
    {
      "cell_type": "code",
      "metadata": {
        "id": "CVhCnLk_DGzj",
        "colab": {
          "base_uri": "https://localhost:8080/"
        },
        "outputId": "129ed31a-5778-4b6b-e998-24b91cd7a2c4"
      },
      "source": [
        "z(8)"
      ],
      "execution_count": null,
      "outputs": [
        {
          "output_type": "execute_result",
          "data": {
            "text/plain": [
              "64"
            ]
          },
          "metadata": {
            "tags": []
          },
          "execution_count": 38
        }
      ]
    },
    {
      "cell_type": "code",
      "metadata": {
        "colab": {
          "base_uri": "https://localhost:8080/"
        },
        "id": "KntCOV2K8OEq",
        "outputId": "2edb2e91-3443-4e0c-850a-af838c6835cb"
      },
      "source": [
        "x = lambda a, b : a * b\n",
        "print(x(5, 6))"
      ],
      "execution_count": null,
      "outputs": [
        {
          "output_type": "stream",
          "text": [
            "30\n"
          ],
          "name": "stdout"
        }
      ]
    },
    {
      "cell_type": "code",
      "metadata": {
        "colab": {
          "base_uri": "https://localhost:8080/"
        },
        "id": "zVogDNML8dZK",
        "outputId": "aa24afda-da60-4902-8349-9f9bc9b7ca26"
      },
      "source": [
        "a = [1, 2, 3, 4]\n",
        "b = [17, 12, 11, 10]\n",
        "c = [-1, -4, 5, 9] \n",
        "list(map(lambda x, y, z : x+y+z, a, b, c))"
      ],
      "execution_count": null,
      "outputs": [
        {
          "output_type": "execute_result",
          "data": {
            "text/plain": [
              "[17, 10, 19, 23]"
            ]
          },
          "metadata": {
            "tags": []
          },
          "execution_count": 36
        }
      ]
    },
    {
      "cell_type": "markdown",
      "metadata": {
        "collapsed": true,
        "id": "UX7w2xuODGzr"
      },
      "source": [
        "### Functions are objects\n",
        "Functions are a type of \"value\" that can be assigned to variables, stored in lists and so on.\n"
      ]
    },
    {
      "cell_type": "code",
      "metadata": {
        "id": "eA6AuZLhDGzr",
        "colab": {
          "base_uri": "https://localhost:8080/"
        },
        "outputId": "de439662-963b-4bbe-e175-377a595fcf5c"
      },
      "source": [
        "def f(x):\n",
        "    return 2*x**2 +3*x-5\n",
        "g = f\n",
        "print(\"g(3.6) =\",g(3.6) )\n"
      ],
      "execution_count": null,
      "outputs": [
        {
          "output_type": "stream",
          "text": [
            "g(3.6) = 31.72\n"
          ],
          "name": "stdout"
        }
      ]
    },
    {
      "cell_type": "markdown",
      "metadata": {
        "id": "xE_yYpSsZ_Rp"
      },
      "source": [
        "#Recursion"
      ]
    },
    {
      "cell_type": "markdown",
      "metadata": {
        "id": "kCuvgnGvZ97n"
      },
      "source": [
        "![image.png](data:image/png;base64,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)"
      ]
    },
    {
      "cell_type": "code",
      "metadata": {
        "id": "0tO-LyZyDGzu"
      },
      "source": [
        "def factorial(x):\r\n",
        "    \"\"\"This is a recursive function\r\n",
        "    to find the factorial of an integer\"\"\"\r\n",
        "\r\n",
        "    if x == 1:\r\n",
        "        return 1\r\n",
        "    else:\r\n",
        "        return (x * factorial(x-1))\r\n",
        "\r\n",
        "\r\n",
        "num = 3\r\n",
        "print(\"The factorial of\", num, \"is\", factorial(num))"
      ],
      "execution_count": null,
      "outputs": []
    },
    {
      "cell_type": "markdown",
      "metadata": {
        "id": "_NDWljNkaFjp"
      },
      "source": [
        "factorial(3)          # 1st call with 3\r\n",
        "\r\n",
        "3 * factorial(2)      # 2nd call with 2\r\n",
        "\r\n",
        "3 * 2 * factorial(1)  # 3rd call with 1\r\n",
        "\r\n",
        "3 * 2 * 1             # return from 3rd call as number=1\r\n",
        "\r\n",
        "3 * 2                 # return from 2nd call\r\n",
        "\r\n",
        "6                     # return from 1st call"
      ]
    },
    {
      "cell_type": "markdown",
      "metadata": {
        "id": "-W7PK3dUaKLP"
      },
      "source": [
        "![image.png](data:image/png;base64,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)"
      ]
    },
    {
      "cell_type": "code",
      "metadata": {
        "colab": {
          "base_uri": "https://localhost:8080/"
        },
        "id": "jheJHxeEbCJ6",
        "outputId": "716e46ae-a72f-40cd-b25e-33e97c6e0c36"
      },
      "source": [
        "def tri_recursion(k):\r\n",
        "  if(k>0):\r\n",
        "    result = k+tri_recursion(k-1)\r\n",
        "    print(k,result)\r\n",
        "  else:\r\n",
        "    result = 0\r\n",
        "  return result\r\n",
        "\r\n",
        "print(\"Recursion Example Results\")\r\n",
        "tri_recursion(6)"
      ],
      "execution_count": 4,
      "outputs": [
        {
          "output_type": "stream",
          "text": [
            "Recursion Example Results\n",
            "1 1\n",
            "2 3\n",
            "3 6\n",
            "4 10\n",
            "5 15\n",
            "6 21\n"
          ],
          "name": "stdout"
        },
        {
          "output_type": "execute_result",
          "data": {
            "text/plain": [
              "21"
            ]
          },
          "metadata": {
            "tags": []
          },
          "execution_count": 4
        }
      ]
    },
    {
      "cell_type": "code",
      "metadata": {
        "id": "UIR-K3x6aFys"
      },
      "source": [
        "def recursor():\r\n",
        "    recursor()\r\n",
        "recursor()"
      ],
      "execution_count": null,
      "outputs": []
    },
    {
      "cell_type": "markdown",
      "metadata": {
        "id": "YphonZN-aQ_r"
      },
      "source": [
        "Advantages of Recursion\r\n",
        "\r\n",
        "*   Recursive functions make the code look clean and elegant.\r\n",
        "*   A complex task can be broken down into simpler sub-problems using recursion\r\n",
        "*   Sequence generation is easier with recursion than using some nested iteration.\r\n",
        "\r\n",
        "Disadvantages of Recursion\r\n",
        "\r\n",
        "*   Sometimes the logic behind recursion is hard to follow through.\r\n",
        "*   Recursive calls are expensive (inefficient) as they take up a lot of memory and time.\r\n",
        "*   Recursive functions are hard to debug.\r\n"
      ]
    },
    {
      "cell_type": "code",
      "metadata": {
        "id": "obKz9EzHaRQM"
      },
      "source": [
        ""
      ],
      "execution_count": null,
      "outputs": []
    }
  ]
}