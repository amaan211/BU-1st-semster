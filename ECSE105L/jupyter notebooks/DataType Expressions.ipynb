{
 "cells": [
  {
   "cell_type": "markdown",
   "metadata": {
    "colab_type": "text",
    "id": "GXmyLTqjANZu"
   },
   "source": [
    "# Getting started\n",
    "\n",
    "Python can be used like a calculator. Simply type in expressions to get them evaluated."
   ]
  },
  {
   "cell_type": "code",
   "execution_count": null,
   "metadata": {
    "colab": {
     "base_uri": "https://localhost:8080/",
     "height": 34
    },
    "colab_type": "code",
    "executionInfo": {
     "elapsed": 1114,
     "status": "ok",
     "timestamp": 1598281649002,
     "user": {
      "displayName": "Sridhar Swaminathan",
      "photoUrl": "https://lh3.googleusercontent.com/a-/AOh14GgvUjpWNY_tn9Efzip10QlZv44o7sSIu_Q4keU8=s64",
      "userId": "13395525706176391075"
     },
     "user_tz": -330
    },
    "id": "Pll7VpoIAkYm",
    "outputId": "e2f63691-5762-428c-e6db-8d1a2eb75b98"
   },
   "outputs": [
    {
     "data": {
      "text/plain": [
       "4"
      ]
     },
     "execution_count": 3,
     "metadata": {
      "tags": []
     },
     "output_type": "execute_result"
    }
   ],
   "source": [
    "1+3"
   ]
  },
  {
   "cell_type": "markdown",
   "metadata": {
    "colab_type": "text",
    "id": "5EQeDI2PAlEy"
   },
   "source": [
    "###Lets start with printing something"
   ]
  },
  {
   "cell_type": "code",
   "execution_count": null,
   "metadata": {
    "colab": {
     "base_uri": "https://localhost:8080/",
     "height": 34
    },
    "colab_type": "code",
    "executionInfo": {
     "elapsed": 1222,
     "status": "ok",
     "timestamp": 1598281603250,
     "user": {
      "displayName": "Sridhar Swaminathan",
      "photoUrl": "https://lh3.googleusercontent.com/a-/AOh14GgvUjpWNY_tn9Efzip10QlZv44o7sSIu_Q4keU8=s64",
      "userId": "13395525706176391075"
     },
     "user_tz": -330
    },
    "id": "w135pPWaAY9h",
    "outputId": "d203d153-daf6-4702-87ae-8baf71637f16"
   },
   "outputs": [
    {
     "name": "stdout",
     "output_type": "stream",
     "text": [
      "Hello Cruel World!\n"
     ]
    }
   ],
   "source": [
    "print(\"Hello Cruel World!\")"
   ]
  },
  {
   "cell_type": "code",
   "execution_count": null,
   "metadata": {
    "colab": {
     "base_uri": "https://localhost:8080/",
     "height": 34
    },
    "colab_type": "code",
    "executionInfo": {
     "elapsed": 1189,
     "status": "ok",
     "timestamp": 1598281627935,
     "user": {
      "displayName": "Sridhar Swaminathan",
      "photoUrl": "https://lh3.googleusercontent.com/a-/AOh14GgvUjpWNY_tn9Efzip10QlZv44o7sSIu_Q4keU8=s64",
      "userId": "13395525706176391075"
     },
     "user_tz": -330
    },
    "id": "8I0NycwDAb4n",
    "outputId": "b2b20ea8-456d-4545-8d7d-b7355bf97bb3"
   },
   "outputs": [
    {
     "name": "stdout",
     "output_type": "stream",
     "text": [
      "Hello Boys and Girls\n"
     ]
    }
   ],
   "source": [
    "print('Hello Boys and Girls')"
   ]
  },
  {
   "cell_type": "markdown",
   "metadata": {
    "colab_type": "text",
    "id": "UHQpn11IAWJy"
   },
   "source": [
    "## Basic syntax for statements \n",
    "The basic rules for writing simple statments and expressions in Python are:\n",
    "\n",
    "* The '#' character indicates that the rest of the line is a comment"
   ]
  },
  {
   "cell_type": "code",
   "execution_count": null,
   "metadata": {
    "colab": {},
    "colab_type": "code",
    "id": "Mtv171i0AX5D"
   },
   "outputs": [],
   "source": [
    "# This a comment"
   ]
  },
  {
   "cell_type": "code",
   "execution_count": null,
   "metadata": {
    "colab": {
     "base_uri": "https://localhost:8080/",
     "height": 34
    },
    "colab_type": "code",
    "executionInfo": {
     "elapsed": 1083,
     "status": "ok",
     "timestamp": 1598281859269,
     "user": {
      "displayName": "Sridhar Swaminathan",
      "photoUrl": "https://lh3.googleusercontent.com/a-/AOh14GgvUjpWNY_tn9Efzip10QlZv44o7sSIu_Q4keU8=s64",
      "userId": "13395525706176391075"
     },
     "user_tz": -330
    },
    "id": "89JA0-mXBNVk",
    "outputId": "192e18fa-e062-4f95-bbeb-500d6c440267"
   },
   "outputs": [
    {
     "name": "stdout",
     "output_type": "stream",
     "text": [
      "Hello there!\n"
     ]
    }
   ],
   "source": [
    "'''These \n",
    "are \n",
    "also\n",
    "comments.\n",
    "These will not be executed.\n",
    "'''\n",
    "print(\"Hello there!\")"
   ]
  },
  {
   "cell_type": "code",
   "execution_count": null,
   "metadata": {
    "colab": {},
    "colab_type": "code",
    "id": "AR2U0s0D_8kZ",
    "outputId": "14ee5492-b97b-4a44-929c-14052ae16039"
   },
   "outputs": [
    {
     "data": {
      "text/plain": [
       "7"
      ]
     },
     "execution_count": 1,
     "metadata": {
      "tags": []
     },
     "output_type": "execute_result"
    }
   ],
   "source": [
    "1 + 2 * 3"
   ]
  },
  {
   "cell_type": "code",
   "execution_count": null,
   "metadata": {
    "colab": {
     "base_uri": "https://localhost:8080/",
     "height": 34
    },
    "colab_type": "code",
    "executionInfo": {
     "elapsed": 1065,
     "status": "ok",
     "timestamp": 1598282013877,
     "user": {
      "displayName": "Sridhar Swaminathan",
      "photoUrl": "https://lh3.googleusercontent.com/a-/AOh14GgvUjpWNY_tn9Efzip10QlZv44o7sSIu_Q4keU8=s64",
      "userId": "13395525706176391075"
     },
     "user_tz": -330
    },
    "id": "VhIWHJwxCAnU",
    "outputId": "214be23d-b2f4-4951-a8cb-0b4b63ad17f5"
   },
   "outputs": [
    {
     "data": {
      "text/plain": [
       "3"
      ]
     },
     "execution_count": 10,
     "metadata": {
      "tags": []
     },
     "output_type": "execute_result"
    }
   ],
   "source": [
    "(1+2)"
   ]
  },
  {
   "cell_type": "markdown",
   "metadata": {
    "colab_type": "text",
    "id": "3L-FH7j5_8kf"
   },
   "source": [
    "Python has extensive help built in. You can execute `help()` for an overview or `help(x)` for any library, object or type `x`. Try using `help(\"topics\")` to get a list of help pages built into the help system."
   ]
  },
  {
   "cell_type": "code",
   "execution_count": null,
   "metadata": {
    "colab": {
     "base_uri": "https://localhost:8080/",
     "height": 403
    },
    "colab_type": "code",
    "executionInfo": {
     "elapsed": 1066,
     "status": "ok",
     "timestamp": 1598282251819,
     "user": {
      "displayName": "Sridhar Swaminathan",
      "photoUrl": "https://lh3.googleusercontent.com/a-/AOh14GgvUjpWNY_tn9Efzip10QlZv44o7sSIu_Q4keU8=s64",
      "userId": "13395525706176391075"
     },
     "user_tz": -330
    },
    "id": "2CFZMCAg_8kg",
    "outputId": "a95f9596-f435-4198-ad93-bfdf73ddbe67"
   },
   "outputs": [
    {
     "name": "stdout",
     "output_type": "stream",
     "text": [
      "\n",
      "Here is a list of available topics.  Enter any topic name to get more help.\n",
      "\n",
      "ASSERTION           DELETION            LOOPING             SHIFTING\n",
      "ASSIGNMENT          DICTIONARIES        MAPPINGMETHODS      SLICINGS\n",
      "ATTRIBUTEMETHODS    DICTIONARYLITERALS  MAPPINGS            SPECIALATTRIBUTES\n",
      "ATTRIBUTES          DYNAMICFEATURES     METHODS             SPECIALIDENTIFIERS\n",
      "AUGMENTEDASSIGNMENT ELLIPSIS            MODULES             SPECIALMETHODS\n",
      "BASICMETHODS        EXCEPTIONS          NAMESPACES          STRINGMETHODS\n",
      "BINARY              EXECUTION           NONE                STRINGS\n",
      "BITWISE             EXPRESSIONS         NUMBERMETHODS       SUBSCRIPTS\n",
      "BOOLEAN             FLOAT               NUMBERS             TRACEBACKS\n",
      "CALLABLEMETHODS     FORMATTING          OBJECTS             TRUTHVALUE\n",
      "CALLS               FRAMEOBJECTS        OPERATORS           TUPLELITERALS\n",
      "CLASSES             FRAMES              PACKAGES            TUPLES\n",
      "CODEOBJECTS         FUNCTIONS           POWER               TYPEOBJECTS\n",
      "COMPARISON          IDENTIFIERS         PRECEDENCE          TYPES\n",
      "COMPLEX             IMPORTING           PRIVATENAMES        UNARY\n",
      "CONDITIONAL         INTEGER             RETURNING           UNICODE\n",
      "CONTEXTMANAGERS     LISTLITERALS        SCOPING             \n",
      "CONVERSIONS         LISTS               SEQUENCEMETHODS     \n",
      "DEBUGGING           LITERALS            SEQUENCES           \n",
      "\n"
     ]
    }
   ],
   "source": [
    "help(\"topics\")"
   ]
  },
  {
   "cell_type": "code",
   "execution_count": null,
   "metadata": {
    "colab": {
     "base_uri": "https://localhost:8080/",
     "height": 1000
    },
    "colab_type": "code",
    "executionInfo": {
     "elapsed": 1132,
     "status": "ok",
     "timestamp": 1598282266359,
     "user": {
      "displayName": "Sridhar Swaminathan",
      "photoUrl": "https://lh3.googleusercontent.com/a-/AOh14GgvUjpWNY_tn9Efzip10QlZv44o7sSIu_Q4keU8=s64",
      "userId": "13395525706176391075"
     },
     "user_tz": -330
    },
    "id": "1Iw0rqMRC9wj",
    "outputId": "fdf8412f-0a95-4132-d99d-59a471c7c715"
   },
   "outputs": [
    {
     "name": "stdout",
     "output_type": "stream",
     "text": [
      "Mutable Sequence Types\n",
      "**********************\n",
      "\n",
      "The operations in the following table are defined on mutable sequence\n",
      "types. The \"collections.abc.MutableSequence\" ABC is provided to make\n",
      "it easier to correctly implement these operations on custom sequence\n",
      "types.\n",
      "\n",
      "In the table *s* is an instance of a mutable sequence type, *t* is any\n",
      "iterable object and *x* is an arbitrary object that meets any type and\n",
      "value restrictions imposed by *s* (for example, \"bytearray\" only\n",
      "accepts integers that meet the value restriction \"0 <= x <= 255\").\n",
      "\n",
      "+--------------------------------+----------------------------------+-----------------------+\n",
      "| Operation                      | Result                           | Notes                 |\n",
      "|================================|==================================|=======================|\n",
      "| \"s[i] = x\"                     | item *i* of *s* is replaced by   |                       |\n",
      "|                                | *x*                              |                       |\n",
      "+--------------------------------+----------------------------------+-----------------------+\n",
      "| \"s[i:j] = t\"                   | slice of *s* from *i* to *j* is  |                       |\n",
      "|                                | replaced by the contents of the  |                       |\n",
      "|                                | iterable *t*                     |                       |\n",
      "+--------------------------------+----------------------------------+-----------------------+\n",
      "| \"del s[i:j]\"                   | same as \"s[i:j] = []\"            |                       |\n",
      "+--------------------------------+----------------------------------+-----------------------+\n",
      "| \"s[i:j:k] = t\"                 | the elements of \"s[i:j:k]\" are   | (1)                   |\n",
      "|                                | replaced by those of *t*         |                       |\n",
      "+--------------------------------+----------------------------------+-----------------------+\n",
      "| \"del s[i:j:k]\"                 | removes the elements of          |                       |\n",
      "|                                | \"s[i:j:k]\" from the list         |                       |\n",
      "+--------------------------------+----------------------------------+-----------------------+\n",
      "| \"s.append(x)\"                  | appends *x* to the end of the    |                       |\n",
      "|                                | sequence (same as                |                       |\n",
      "|                                | \"s[len(s):len(s)] = [x]\")        |                       |\n",
      "+--------------------------------+----------------------------------+-----------------------+\n",
      "| \"s.clear()\"                    | removes all items from *s* (same | (5)                   |\n",
      "|                                | as \"del s[:]\")                   |                       |\n",
      "+--------------------------------+----------------------------------+-----------------------+\n",
      "| \"s.copy()\"                     | creates a shallow copy of *s*    | (5)                   |\n",
      "|                                | (same as \"s[:]\")                 |                       |\n",
      "+--------------------------------+----------------------------------+-----------------------+\n",
      "| \"s.extend(t)\" or \"s += t\"      | extends *s* with the contents of |                       |\n",
      "|                                | *t* (for the most part the same  |                       |\n",
      "|                                | as \"s[len(s):len(s)] = t\")       |                       |\n",
      "+--------------------------------+----------------------------------+-----------------------+\n",
      "| \"s *= n\"                       | updates *s* with its contents    | (6)                   |\n",
      "|                                | repeated *n* times               |                       |\n",
      "+--------------------------------+----------------------------------+-----------------------+\n",
      "| \"s.insert(i, x)\"               | inserts *x* into *s* at the      |                       |\n",
      "|                                | index given by *i* (same as      |                       |\n",
      "|                                | \"s[i:i] = [x]\")                  |                       |\n",
      "+--------------------------------+----------------------------------+-----------------------+\n",
      "| \"s.pop([i])\"                   | retrieves the item at *i* and    | (2)                   |\n",
      "|                                | also removes it from *s*         |                       |\n",
      "+--------------------------------+----------------------------------+-----------------------+\n",
      "| \"s.remove(x)\"                  | remove the first item from *s*   | (3)                   |\n",
      "|                                | where \"s[i] == x\"                |                       |\n",
      "+--------------------------------+----------------------------------+-----------------------+\n",
      "| \"s.reverse()\"                  | reverses the items of *s* in     | (4)                   |\n",
      "|                                | place                            |                       |\n",
      "+--------------------------------+----------------------------------+-----------------------+\n",
      "\n",
      "Notes:\n",
      "\n",
      "1. *t* must have the same length as the slice it is replacing.\n",
      "\n",
      "2. The optional argument *i* defaults to \"-1\", so that by default\n",
      "   the last item is removed and returned.\n",
      "\n",
      "3. \"remove\" raises \"ValueError\" when *x* is not found in *s*.\n",
      "\n",
      "4. The \"reverse()\" method modifies the sequence in place for\n",
      "   economy of space when reversing a large sequence.  To remind users\n",
      "   that it operates by side effect, it does not return the reversed\n",
      "   sequence.\n",
      "\n",
      "5. \"clear()\" and \"copy()\" are included for consistency with the\n",
      "   interfaces of mutable containers that don’t support slicing\n",
      "   operations (such as \"dict\" and \"set\")\n",
      "\n",
      "   New in version 3.3: \"clear()\" and \"copy()\" methods.\n",
      "\n",
      "6. The value *n* is an integer, or an object implementing\n",
      "   \"__index__()\".  Zero and negative values of *n* clear the sequence.\n",
      "   Items in the sequence are not copied; they are referenced multiple\n",
      "   times, as explained for \"s * n\" under Common Sequence Operations.\n",
      "\n",
      "Related help topics: LISTLITERALS\n",
      "\n"
     ]
    }
   ],
   "source": [
    "help(\"LISTS\")"
   ]
  },
  {
   "cell_type": "markdown",
   "metadata": {
    "colab_type": "text",
    "id": "d9aydW03_8kk"
   },
   "source": [
    "## Variables & Values"
   ]
  },
  {
   "cell_type": "markdown",
   "metadata": {
    "colab_type": "text",
    "id": "tsDgdaEQ_8kk"
   },
   "source": [
    "A name that is used to denote something or a value is called a variable. In python, variables can be declared and values can be assigned to it as follows,"
   ]
  },
  {
   "cell_type": "code",
   "execution_count": null,
   "metadata": {
    "colab": {
     "base_uri": "https://localhost:8080/",
     "height": 34
    },
    "colab_type": "code",
    "executionInfo": {
     "elapsed": 807,
     "status": "ok",
     "timestamp": 1598282288003,
     "user": {
      "displayName": "Sridhar Swaminathan",
      "photoUrl": "https://lh3.googleusercontent.com/a-/AOh14GgvUjpWNY_tn9Efzip10QlZv44o7sSIu_Q4keU8=s64",
      "userId": "13395525706176391075"
     },
     "user_tz": -330
    },
    "id": "VQp-zsRn_8kl",
    "outputId": "f751aac3-579e-4d82-86e7-fcd948cf2437"
   },
   "outputs": [
    {
     "name": "stdout",
     "output_type": "stream",
     "text": [
      "7 Hey\n"
     ]
    }
   ],
   "source": [
    "x = 2          # anything after a '#' is a comment\n",
    "y = 5\n",
    "xy = 'Hey'\n",
    "print(x+y, xy) # not really necessary as the last value in a bit of code is displayed by default"
   ]
  },
  {
   "cell_type": "markdown",
   "metadata": {
    "colab_type": "text",
    "id": "DVOolYY5_8ko"
   },
   "source": [
    "Multiple variables can be assigned with the same value."
   ]
  },
  {
   "cell_type": "code",
   "execution_count": null,
   "metadata": {
    "colab": {
     "base_uri": "https://localhost:8080/",
     "height": 34
    },
    "colab_type": "code",
    "executionInfo": {
     "elapsed": 1180,
     "status": "ok",
     "timestamp": 1598282571613,
     "user": {
      "displayName": "Sridhar Swaminathan",
      "photoUrl": "https://lh3.googleusercontent.com/a-/AOh14GgvUjpWNY_tn9Efzip10QlZv44o7sSIu_Q4keU8=s64",
      "userId": "13395525706176391075"
     },
     "user_tz": -330
    },
    "id": "omosLq3l_8kp",
    "outputId": "edb1f75a-bb42-4bb5-9ce7-53382052123d"
   },
   "outputs": [
    {
     "name": "stdout",
     "output_type": "stream",
     "text": [
      "1 1\n"
     ]
    }
   ],
   "source": [
    "x = y = 1\n",
    "print(x,y)"
   ]
  },
  {
   "cell_type": "markdown",
   "metadata": {
    "colab_type": "text",
    "id": "5yywH2Qu_8ks"
   },
   "source": [
    "The basic types build into Python include `float` (floating point numbers), `int` (integers), `str` (unicode character strings) and `bool` (boolean). Some examples of each:"
   ]
  },
  {
   "cell_type": "code",
   "execution_count": null,
   "metadata": {
    "colab": {
     "base_uri": "https://localhost:8080/",
     "height": 67
    },
    "colab_type": "code",
    "executionInfo": {
     "elapsed": 1091,
     "status": "ok",
     "timestamp": 1598282668357,
     "user": {
      "displayName": "Sridhar Swaminathan",
      "photoUrl": "https://lh3.googleusercontent.com/a-/AOh14GgvUjpWNY_tn9Efzip10QlZv44o7sSIu_Q4keU8=s64",
      "userId": "13395525706176391075"
     },
     "user_tz": -330
    },
    "id": "CrNgCcqW_8kt",
    "outputId": "9ed3de27-fa80-4e28-b81e-6508a4ef2c74"
   },
   "outputs": [
    {
     "name": "stdout",
     "output_type": "stream",
     "text": [
      "Triple quotes (also with '''), allow strings to break over multiple lines.\n",
      "Alternatively \n",
      " is a newline character (\t for tab, \\ is a single backslash)\n"
     ]
    }
   ],
   "source": [
    "2.0           # a simple floating point number\n",
    "1e100         # a googol as floating point number\n",
    "-1234567890   # an integer\n",
    "True or False # the two possible boolean values"
   ]
  },
  {
   "cell_type": "markdown",
   "metadata": {
    "colab_type": "text",
    "id": "NsO7j2kv_8kw"
   },
   "source": [
    "Python also has complex numbers that can be written as follows. Note that the brackets are required."
   ]
  },
  {
   "cell_type": "code",
   "execution_count": null,
   "metadata": {
    "colab": {},
    "colab_type": "code",
    "id": "wlzJLm96_8kx",
    "outputId": "a98d133e-8718-4416-e817-864284671da9"
   },
   "outputs": [
    {
     "data": {
      "text/plain": [
       "(1+2j)"
      ]
     },
     "execution_count": 6,
     "metadata": {
      "tags": []
     },
     "output_type": "execute_result"
    }
   ],
   "source": [
    "complex(1,2)\n",
    "(1.0+2j) # the same number as above"
   ]
  },
  {
   "cell_type": "code",
   "execution_count": 17,
   "metadata": {
    "colab": {},
    "colab_type": "code",
    "executionInfo": {
     "elapsed": 1042,
     "status": "ok",
     "timestamp": 1598283208479,
     "user": {
      "displayName": "Sridhar Swaminathan",
      "photoUrl": "https://lh3.googleusercontent.com/a-/AOh14GgvUjpWNY_tn9Efzip10QlZv44o7sSIu_Q4keU8=s64",
      "userId": "13395525706176391075"
     },
     "user_tz": -330
    },
    "id": "xU99lKIBGcE7"
   },
   "outputs": [],
   "source": [
    "a=10       \n",
    "Abc=2468\n",
    "Name = 'Chulbul Pandey'\n",
    "Place = \"Mumbai\"    \n",
    "Marks = 95.5"
   ]
  },
  {
   "cell_type": "code",
   "execution_count": 21,
   "metadata": {
    "colab": {
     "base_uri": "https://localhost:8080/",
     "height": 34
    },
    "colab_type": "code",
    "executionInfo": {
     "elapsed": 1075,
     "status": "ok",
     "timestamp": 1598283281227,
     "user": {
      "displayName": "Sridhar Swaminathan",
      "photoUrl": "https://lh3.googleusercontent.com/a-/AOh14GgvUjpWNY_tn9Efzip10QlZv44o7sSIu_Q4keU8=s64",
      "userId": "13395525706176391075"
     },
     "user_tz": -330
    },
    "id": "E6y4Fz0gGytH",
    "outputId": "e4cc252a-2e54-4315-d1f2-a45b7f19a01e"
   },
   "outputs": [
    {
     "name": "stdout",
     "output_type": "stream",
     "text": [
      "10 2468 Chulbul Pandey Mumbai 95.5\n"
     ]
    }
   ],
   "source": [
    "print(a,Abc,Name,Place,Marks)"
   ]
  },
  {
   "cell_type": "markdown",
   "metadata": {
    "colab_type": "text",
    "id": "gJPjtTsNGrXb"
   },
   "source": [
    "Starting with number for variable name"
   ]
  },
  {
   "cell_type": "code",
   "execution_count": 18,
   "metadata": {
    "colab": {
     "base_uri": "https://localhost:8080/",
     "height": 128
    },
    "colab_type": "code",
    "executionInfo": {
     "elapsed": 1064,
     "status": "error",
     "timestamp": 1598283219616,
     "user": {
      "displayName": "Sridhar Swaminathan",
      "photoUrl": "https://lh3.googleusercontent.com/a-/AOh14GgvUjpWNY_tn9Efzip10QlZv44o7sSIu_Q4keU8=s64",
      "userId": "13395525706176391075"
     },
     "user_tz": -330
    },
    "id": "GM1vAAscGnoR",
    "outputId": "af77ee66-7a7b-44d6-b7d6-75ab66da8b24"
   },
   "outputs": [
    {
     "ename": "SyntaxError",
     "evalue": "ignored",
     "output_type": "error",
     "traceback": [
      "\u001b[0;36m  File \u001b[0;32m\"<ipython-input-18-235eb419b72e>\"\u001b[0;36m, line \u001b[0;32m1\u001b[0m\n\u001b[0;31m    1Marks = 25\u001b[0m\n\u001b[0m         ^\u001b[0m\n\u001b[0;31mSyntaxError\u001b[0m\u001b[0;31m:\u001b[0m invalid syntax\n"
     ]
    }
   ],
   "source": [
    "1Marks = 25 "
   ]
  },
  {
   "cell_type": "code",
   "execution_count": 22,
   "metadata": {
    "colab": {},
    "colab_type": "code",
    "executionInfo": {
     "elapsed": 1026,
     "status": "ok",
     "timestamp": 1598285962988,
     "user": {
      "displayName": "Sridhar Swaminathan",
      "photoUrl": "https://lh3.googleusercontent.com/a-/AOh14GgvUjpWNY_tn9Efzip10QlZv44o7sSIu_Q4keU8=s64",
      "userId": "13395525706176391075"
     },
     "user_tz": -330
    },
    "id": "NLOAROr6Gpje"
   },
   "outputs": [],
   "source": [
    "Marks1 = 25"
   ]
  },
  {
   "cell_type": "code",
   "execution_count": 23,
   "metadata": {
    "colab": {
     "base_uri": "https://localhost:8080/",
     "height": 128
    },
    "colab_type": "code",
    "executionInfo": {
     "elapsed": 1368,
     "status": "error",
     "timestamp": 1598285974155,
     "user": {
      "displayName": "Sridhar Swaminathan",
      "photoUrl": "https://lh3.googleusercontent.com/a-/AOh14GgvUjpWNY_tn9Efzip10QlZv44o7sSIu_Q4keU8=s64",
      "userId": "13395525706176391075"
     },
     "user_tz": -330
    },
    "id": "TLPDKwBqRIEp",
    "outputId": "d87ee0b9-e630-4ed9-f170-1af13597b013"
   },
   "outputs": [
    {
     "ename": "SyntaxError",
     "evalue": "ignored",
     "output_type": "error",
     "traceback": [
      "\u001b[0;36m  File \u001b[0;32m\"<ipython-input-23-c17552d951e6>\"\u001b[0;36m, line \u001b[0;32m1\u001b[0m\n\u001b[0;31m    123 = 987\u001b[0m\n\u001b[0m               ^\u001b[0m\n\u001b[0;31mSyntaxError\u001b[0m\u001b[0;31m:\u001b[0m can't assign to literal\n"
     ]
    }
   ],
   "source": [
    "123 = 987  "
   ]
  },
  {
   "cell_type": "code",
   "execution_count": 24,
   "metadata": {
    "colab": {},
    "colab_type": "code",
    "executionInfo": {
     "elapsed": 5034,
     "status": "ok",
     "timestamp": 1598285995038,
     "user": {
      "displayName": "Sridhar Swaminathan",
      "photoUrl": "https://lh3.googleusercontent.com/a-/AOh14GgvUjpWNY_tn9Efzip10QlZv44o7sSIu_Q4keU8=s64",
      "userId": "13395525706176391075"
     },
     "user_tz": -330
    },
    "id": "7kDlitfjGU9b"
   },
   "outputs": [],
   "source": [
    "first_sub =\"Computational thinking with programming\"      # line 8\n",
    "_Marks = 25       # line 9\n",
    "flag = True        # line 10"
   ]
  },
  {
   "cell_type": "code",
   "execution_count": 25,
   "metadata": {
    "colab": {
     "base_uri": "https://localhost:8080/",
     "height": 34
    },
    "colab_type": "code",
    "executionInfo": {
     "elapsed": 1945,
     "status": "ok",
     "timestamp": 1598286032375,
     "user": {
      "displayName": "Sridhar Swaminathan",
      "photoUrl": "https://lh3.googleusercontent.com/a-/AOh14GgvUjpWNY_tn9Efzip10QlZv44o7sSIu_Q4keU8=s64",
      "userId": "13395525706176391075"
     },
     "user_tz": -330
    },
    "id": "_WmUCjSoROAN",
    "outputId": "d35f030c-4178-4992-d397-775a336e378e"
   },
   "outputs": [
    {
     "name": "stdout",
     "output_type": "stream",
     "text": [
      "Computational thinking with programming 25 True\n"
     ]
    }
   ],
   "source": [
    "print(first_sub,_Marks,flag)"
   ]
  },
  {
   "cell_type": "markdown",
   "metadata": {
    "colab_type": "text",
    "id": "D7P_OzcVRYXt"
   },
   "source": [
    "# Data Types"
   ]
  },
  {
   "cell_type": "code",
   "execution_count": 26,
   "metadata": {
    "colab": {
     "base_uri": "https://localhost:8080/",
     "height": 34
    },
    "colab_type": "code",
    "executionInfo": {
     "elapsed": 1043,
     "status": "ok",
     "timestamp": 1598286045588,
     "user": {
      "displayName": "Sridhar Swaminathan",
      "photoUrl": "https://lh3.googleusercontent.com/a-/AOh14GgvUjpWNY_tn9Efzip10QlZv44o7sSIu_Q4keU8=s64",
      "userId": "13395525706176391075"
     },
     "user_tz": -330
    },
    "id": "nyw-R6plRX8s",
    "outputId": "008ae914-07da-43d6-ed73-8a17c7d6983c"
   },
   "outputs": [
    {
     "data": {
      "text/plain": [
       "int"
      ]
     },
     "execution_count": 26,
     "metadata": {
      "tags": []
     },
     "output_type": "execute_result"
    }
   ],
   "source": [
    "type(a)"
   ]
  },
  {
   "cell_type": "code",
   "execution_count": 27,
   "metadata": {
    "colab": {
     "base_uri": "https://localhost:8080/",
     "height": 67
    },
    "colab_type": "code",
    "executionInfo": {
     "elapsed": 1049,
     "status": "ok",
     "timestamp": 1598286052028,
     "user": {
      "displayName": "Sridhar Swaminathan",
      "photoUrl": "https://lh3.googleusercontent.com/a-/AOh14GgvUjpWNY_tn9Efzip10QlZv44o7sSIu_Q4keU8=s64",
      "userId": "13395525706176391075"
     },
     "user_tz": -330
    },
    "id": "1ipmSwQjRacb",
    "outputId": "ef556d8d-6409-4a70-d567-06083029fdac"
   },
   "outputs": [
    {
     "name": "stdout",
     "output_type": "stream",
     "text": [
      "<class 'int'>\n",
      "<class 'str'>\n",
      "<class 'float'>\n"
     ]
    }
   ],
   "source": [
    "print(type(a))\n",
    "print(type(Name))\n",
    "print(type(Marks))"
   ]
  },
  {
   "cell_type": "code",
   "execution_count": 28,
   "metadata": {
    "colab": {
     "base_uri": "https://localhost:8080/",
     "height": 34
    },
    "colab_type": "code",
    "executionInfo": {
     "elapsed": 1029,
     "status": "ok",
     "timestamp": 1598286057890,
     "user": {
      "displayName": "Sridhar Swaminathan",
      "photoUrl": "https://lh3.googleusercontent.com/a-/AOh14GgvUjpWNY_tn9Efzip10QlZv44o7sSIu_Q4keU8=s64",
      "userId": "13395525706176391075"
     },
     "user_tz": -330
    },
    "id": "GUw40YR7Rcmt",
    "outputId": "22ca53bf-eb8f-44a6-85b6-f7913836324e"
   },
   "outputs": [
    {
     "data": {
      "text/plain": [
       "int"
      ]
     },
     "execution_count": 28,
     "metadata": {
      "tags": []
     },
     "output_type": "execute_result"
    }
   ],
   "source": [
    "type(12345)"
   ]
  },
  {
   "cell_type": "code",
   "execution_count": 29,
   "metadata": {
    "colab": {
     "base_uri": "https://localhost:8080/",
     "height": 34
    },
    "colab_type": "code",
    "executionInfo": {
     "elapsed": 1028,
     "status": "ok",
     "timestamp": 1598286065065,
     "user": {
      "displayName": "Sridhar Swaminathan",
      "photoUrl": "https://lh3.googleusercontent.com/a-/AOh14GgvUjpWNY_tn9Efzip10QlZv44o7sSIu_Q4keU8=s64",
      "userId": "13395525706176391075"
     },
     "user_tz": -330
    },
    "id": "-zOkCKXbReY1",
    "outputId": "e579c455-eb38-4122-c21b-b3eb08d28420"
   },
   "outputs": [
    {
     "data": {
      "text/plain": [
       "str"
      ]
     },
     "execution_count": 29,
     "metadata": {
      "tags": []
     },
     "output_type": "execute_result"
    }
   ],
   "source": [
    "type(\"12345\")"
   ]
  },
  {
   "cell_type": "code",
   "execution_count": 30,
   "metadata": {
    "colab": {
     "base_uri": "https://localhost:8080/",
     "height": 101
    },
    "colab_type": "code",
    "executionInfo": {
     "elapsed": 1072,
     "status": "ok",
     "timestamp": 1598286073089,
     "user": {
      "displayName": "Sridhar Swaminathan",
      "photoUrl": "https://lh3.googleusercontent.com/a-/AOh14GgvUjpWNY_tn9Efzip10QlZv44o7sSIu_Q4keU8=s64",
      "userId": "13395525706176391075"
     },
     "user_tz": -330
    },
    "id": "XXuQGEbERgUn",
    "outputId": "5b898712-a639-41f6-dab0-cf825c1fae87"
   },
   "outputs": [
    {
     "name": "stdout",
     "output_type": "stream",
     "text": [
      "<class 'int'>\n",
      "<class 'str'>\n",
      "<class 'float'>\n",
      "<class 'str'>\n",
      "<class 'bool'>\n"
     ]
    }
   ],
   "source": [
    "print(type(Abc))\n",
    "print(type(Name))\n",
    "print(type(Marks))\n",
    "print(type(first_sub))\n",
    "print(type(flag))"
   ]
  },
  {
   "cell_type": "code",
   "execution_count": 31,
   "metadata": {
    "colab": {
     "base_uri": "https://localhost:8080/",
     "height": 34
    },
    "colab_type": "code",
    "executionInfo": {
     "elapsed": 1250,
     "status": "ok",
     "timestamp": 1598286081861,
     "user": {
      "displayName": "Sridhar Swaminathan",
      "photoUrl": "https://lh3.googleusercontent.com/a-/AOh14GgvUjpWNY_tn9Efzip10QlZv44o7sSIu_Q4keU8=s64",
      "userId": "13395525706176391075"
     },
     "user_tz": -330
    },
    "id": "c_XoMQfbRiWL",
    "outputId": "00fdf4a0-96b6-4896-8121-9205ca085f2c"
   },
   "outputs": [
    {
     "name": "stdout",
     "output_type": "stream",
     "text": [
      "58\n"
     ]
    }
   ],
   "source": [
    "import sys\n",
    "x = \"2\"\n",
    "print(sys.getsizeof(x))"
   ]
  },
  {
   "cell_type": "markdown",
   "metadata": {
    "colab_type": "text",
    "id": "_tffnRgS_8ll"
   },
   "source": [
    "# Built-in Functions"
   ]
  },
  {
   "cell_type": "markdown",
   "metadata": {
    "colab_type": "text",
    "id": "qNtL9rhq_8lm"
   },
   "source": [
    "Python comes with a wide range of functions. However many of these are part of stanard libraries like the `math` library rather than built-in."
   ]
  },
  {
   "cell_type": "markdown",
   "metadata": {
    "colab_type": "text",
    "id": "pCqViznV_8lm"
   },
   "source": [
    "## Converting values\n",
    "\n",
    "Conversion from hexadecimal to decimal is done by adding prefix **0x** to the hexadecimal value or vice versa by using built in `hex( )`, Octal to decimal by adding prefix **0** to the octal value or vice versa by using built in function `oct( )`."
   ]
  },
  {
   "cell_type": "code",
   "execution_count": null,
   "metadata": {
    "colab": {},
    "colab_type": "code",
    "id": "ViX-3AFy_8ln",
    "outputId": "0550f2e0-8fbb-4703-9dc4-28a2f858190f"
   },
   "outputs": [
    {
     "data": {
      "text/plain": [
       "'0xab'"
      ]
     },
     "execution_count": 21,
     "metadata": {
      "tags": []
     },
     "output_type": "execute_result"
    }
   ],
   "source": [
    "hex(171) # hexadecmial value as string"
   ]
  },
  {
   "cell_type": "code",
   "execution_count": null,
   "metadata": {
    "colab": {},
    "colab_type": "code",
    "id": "gsU9l6M6_8lr",
    "outputId": "08f3eeaf-4f0f-4424-93b4-78bc07353d79"
   },
   "outputs": [
    {
     "data": {
      "text/plain": [
       "171"
      ]
     },
     "execution_count": 22,
     "metadata": {
      "tags": []
     },
     "output_type": "execute_result"
    }
   ],
   "source": [
    "0xAB"
   ]
  },
  {
   "cell_type": "markdown",
   "metadata": {
    "colab_type": "text",
    "id": "f-W_5BoF_8lu"
   },
   "source": [
    "`int( )` converts a number to an integer. This can be a single floating point number, integer or a string. For strings the base can optionally be specified:"
   ]
  },
  {
   "cell_type": "code",
   "execution_count": null,
   "metadata": {
    "colab": {},
    "colab_type": "code",
    "id": "xHjNKGTb_8lu",
    "outputId": "4838ceea-7bca-48b2-e1a2-60768218d4e1"
   },
   "outputs": [
    {
     "name": "stdout",
     "output_type": "stream",
     "text": [
      "7 7 7\n"
     ]
    }
   ],
   "source": [
    "print(int(7.7), int('111',2),int('7'))"
   ]
  },
  {
   "cell_type": "markdown",
   "metadata": {
    "colab_type": "text",
    "id": "MiJJ26wf_8lx"
   },
   "source": [
    " Similarly, the function `str( )` can be used to convert almost anything to a string"
   ]
  },
  {
   "cell_type": "code",
   "execution_count": null,
   "metadata": {
    "colab": {},
    "colab_type": "code",
    "id": "-S3C3mvU_8ly",
    "outputId": "48b49113-0ca4-410a-bda2-3704389a998b"
   },
   "outputs": [
    {
     "name": "stdout",
     "output_type": "stream",
     "text": [
      "True 1.2345678 -2\n"
     ]
    }
   ],
   "source": [
    "print(str(True),str(1.2345678),str(-2))"
   ]
  },
  {
   "cell_type": "markdown",
   "metadata": {
    "colab_type": "text",
    "id": "hvannb4h_8l0"
   },
   "source": [
    "## Mathematical functions\n",
    "Mathematical functions include the usual suspects like logarithms, trigonometric fuctions, the constant $\\pi$ and so on."
   ]
  },
  {
   "cell_type": "code",
   "execution_count": null,
   "metadata": {
    "colab": {},
    "colab_type": "code",
    "id": "DhQTTyJ0_8l1",
    "outputId": "a98ad2cc-4959-4def-bfa3-6c2c4e71118b"
   },
   "outputs": [
    {
     "data": {
      "text/plain": [
       "1.0"
      ]
     },
     "execution_count": 25,
     "metadata": {
      "tags": []
     },
     "output_type": "execute_result"
    }
   ],
   "source": [
    "import math\n",
    "math.sin(math.pi/2)\n",
    "from math import * # avoid having to put a math. in front of every mathematical function\n",
    "sin(pi/2) # equivalent to the statement above"
   ]
  },
  {
   "cell_type": "markdown",
   "metadata": {
    "colab_type": "text",
    "id": "sDFWdKVC_8l3"
   },
   "source": [
    "## Simplifying Arithmetic Operations"
   ]
  },
  {
   "cell_type": "markdown",
   "metadata": {
    "colab_type": "text",
    "id": "owSRX0_x_8l3"
   },
   "source": [
    "`round( )` function rounds the input value to a specified number of places or to the nearest integer. "
   ]
  },
  {
   "cell_type": "code",
   "execution_count": null,
   "metadata": {
    "colab": {},
    "colab_type": "code",
    "id": "WtToBoec_8l4",
    "outputId": "226f585e-dd05-4b53-baeb-9b56d46e43c7",
    "scrolled": false
   },
   "outputs": [
    {
     "name": "stdout",
     "output_type": "stream",
     "text": [
      "6\n",
      "4.56\n"
     ]
    }
   ],
   "source": [
    "print( round(5.6231) )\n",
    "print( round(4.55892, 2) )"
   ]
  },
  {
   "cell_type": "markdown",
   "metadata": {
    "colab_type": "text",
    "id": "da6EsDo0_8l7"
   },
   "source": [
    "`abs( )` provides the absolute value of any number (including the magnitude of a complex number)."
   ]
  },
  {
   "cell_type": "code",
   "execution_count": null,
   "metadata": {
    "colab": {},
    "colab_type": "code",
    "id": "UHDLMN23_8l7",
    "outputId": "ff7e8957-b6c2-435f-a56d-97338428ac61"
   },
   "outputs": [
    {
     "name": "stdout",
     "output_type": "stream",
     "text": [
      "|5+2i| = 5.385164807134504 \t |-5| = 5\n"
     ]
    }
   ],
   "source": [
    "c =complex('5+2j')\n",
    "print(\"|5+2i| =\", abs(c) , \"\\t |-5| =\", abs(-5) )"
   ]
  },
  {
   "cell_type": "markdown",
   "metadata": {
    "colab_type": "text",
    "id": "wEFv0nlF_8l-"
   },
   "source": [
    "`divmod(x,y)` outputs the quotient and the remainder in a tuple (you will be learning about tuples in the further chapters) in the format (quotient, remainder). "
   ]
  },
  {
   "cell_type": "code",
   "execution_count": null,
   "metadata": {
    "colab": {},
    "colab_type": "code",
    "id": "OYUZ0h5Y_8l-",
    "outputId": "cf607dda-d40b-4ccd-c213-6d5dc55d3da0"
   },
   "outputs": [
    {
     "data": {
      "text/plain": [
       "(4, 1)"
      ]
     },
     "execution_count": 28,
     "metadata": {
      "tags": []
     },
     "output_type": "execute_result"
    }
   ],
   "source": [
    "divmod(9,2)"
   ]
  },
  {
   "cell_type": "markdown",
   "metadata": {
    "colab_type": "text",
    "id": "cHBKbHJv_8mB"
   },
   "source": [
    "## Accepting User Inputs"
   ]
  },
  {
   "cell_type": "markdown",
   "metadata": {
    "colab_type": "text",
    "id": "SXfcr6HJ_8mD"
   },
   "source": [
    "`input(prompt)`,  prompts for and returns input as a string. A useful function to use in conjunction with this is `eval()` which takes a string and evaluates it as a python expression.\n",
    "\n",
    "*Note:* In notebooks it is often easier just to modify the code than to prompt for input."
   ]
  },
  {
   "cell_type": "code",
   "execution_count": null,
   "metadata": {
    "colab": {},
    "colab_type": "code",
    "id": "r0nMIMIw_8mD",
    "outputId": "af86ad5b-cd66-400b-d9c0-51623530bc92",
    "scrolled": true
   },
   "outputs": [
    {
     "name": "stdout",
     "output_type": "stream",
     "text": [
      "abc = 2 + 3*4\n",
      "2 + 3*4 = 14\n"
     ]
    }
   ],
   "source": [
    "abc =  input(\"abc = \")\n",
    "abcValue=eval(abc)\n",
    "print(abc,'=',abcValue)"
   ]
  },
  {
   "cell_type": "code",
   "execution_count": 1,
   "metadata": {},
   "outputs": [
    {
     "name": "stdout",
     "output_type": "stream",
     "text": [
      "\n",
      "Here is a list of the Python keywords.  Enter any keyword to get more help.\n",
      "\n",
      "False               class               from                or\n",
      "None                continue            global              pass\n",
      "True                def                 if                  raise\n",
      "and                 del                 import              return\n",
      "as                  elif                in                  try\n",
      "assert              else                is                  while\n",
      "async               except              lambda              with\n",
      "await               finally             nonlocal            yield\n",
      "break               for                 not                 \n",
      "\n"
     ]
    }
   ],
   "source": [
    "help(\"keywords\")\n"
   ]
  }
 ],
 "metadata": {
  "colab": {
   "collapsed_sections": [],
   "name": "1. Variables and Data Types.ipynb",
   "provenance": []
  },
  "kernelspec": {
   "display_name": "Python 3",
   "language": "python",
   "name": "python3"
  },
  "language_info": {
   "codemirror_mode": {
    "name": "ipython",
    "version": 3
   },
   "file_extension": ".py",
   "mimetype": "text/x-python",
   "name": "python",
   "nbconvert_exporter": "python",
   "pygments_lexer": "ipython3",
   "version": "3.8.3"
  }
 },
 "nbformat": 4,
 "nbformat_minor": 1
}
